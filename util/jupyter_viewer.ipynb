{
 "cells": [
  {
   "cell_type": "code",
   "execution_count": 1,
   "id": "91e0e935-715c-4741-b515-ac37ba244f0d",
   "metadata": {},
   "outputs": [],
   "source": [
    "import sys\n",
    "import os\n",
    "sys.path.append(os.path.abspath('..'))\n",
    "\n",
    "from match_runner import generate_replay, get_game, render, get_actions\n",
    "\n",
    "from luxai2021.env.lux_env import LuxEnvironment\n",
    "from luxai2021.game.constants import LuxMatchConfigs_Default"
   ]
  },
  {
   "cell_type": "code",
   "execution_count": 2,
   "id": "e90b7d05-d1f9-4ee4-81d8-92098d72aa50",
   "metadata": {},
   "outputs": [],
   "source": [
    "from Bots.bot1 import BasicAgent"
   ]
  },
  {
   "cell_type": "code",
   "execution_count": 3,
   "id": "3704861a-8823-4a2a-bf84-95d872a105c5",
   "metadata": {},
   "outputs": [],
   "source": [
    "agent1, agent2 = BasicAgent(), BasicAgent()\n",
    "game = get_game(agent1, agent2)"
   ]
  },
  {
   "cell_type": "code",
   "execution_count": 4,
   "id": "460505b6-bac7-4428-af4f-6e27f5cf9ef1",
   "metadata": {},
   "outputs": [],
   "source": [
    "# render(game)"
   ]
  },
  {
   "cell_type": "code",
   "execution_count": 5,
   "id": "77e08c04-792e-477f-81b3-ac943297f45a",
   "metadata": {},
   "outputs": [
    {
     "ename": "AttributeError",
     "evalue": "'str' object has no attribute 'id'",
     "output_type": "error",
     "traceback": [
      "\u001B[1;31m---------------------------------------------------------------------------\u001B[0m",
      "\u001B[1;31mAttributeError\u001B[0m                            Traceback (most recent call last)",
      "\u001B[1;32m~\\AppData\\Local\\Temp/ipykernel_31032/3734490348.py\u001B[0m in \u001B[0;36m<module>\u001B[1;34m\u001B[0m\n\u001B[1;32m----> 1\u001B[1;33m \u001B[0mactions\u001B[0m \u001B[1;33m=\u001B[0m \u001B[0mget_actions\u001B[0m\u001B[1;33m(\u001B[0m\u001B[0mgame\u001B[0m\u001B[1;33m)\u001B[0m\u001B[1;33m\u001B[0m\u001B[1;33m\u001B[0m\u001B[0m\n\u001B[0m\u001B[0;32m      2\u001B[0m \u001B[0mprint\u001B[0m\u001B[1;33m(\u001B[0m\u001B[1;34mf\"Turn: {game.state['turn']}\"\u001B[0m\u001B[1;33m)\u001B[0m\u001B[1;33m\u001B[0m\u001B[1;33m\u001B[0m\u001B[0m\n\u001B[0;32m      3\u001B[0m \u001B[1;32mfor\u001B[0m \u001B[0maction\u001B[0m \u001B[1;32min\u001B[0m \u001B[0mactions\u001B[0m\u001B[1;33m:\u001B[0m\u001B[1;33m\u001B[0m\u001B[1;33m\u001B[0m\u001B[0m\n\u001B[0;32m      4\u001B[0m     \u001B[0mprint\u001B[0m\u001B[1;33m(\u001B[0m\u001B[0maction\u001B[0m\u001B[1;33m.\u001B[0m\u001B[0mto_message\u001B[0m\u001B[1;33m(\u001B[0m\u001B[0mgame\u001B[0m\u001B[1;33m)\u001B[0m\u001B[1;33m)\u001B[0m\u001B[1;33m\u001B[0m\u001B[1;33m\u001B[0m\u001B[0m\n",
      "\u001B[1;32mD:\\GitHub\\MyLuxBot\\util\\match_runner.py\u001B[0m in \u001B[0;36mget_actions\u001B[1;34m(game)\u001B[0m\n\u001B[0;32m     32\u001B[0m     \u001B[1;34m\"\"\"Get next actions from both agents in Game\"\"\"\u001B[0m\u001B[1;33m\u001B[0m\u001B[1;33m\u001B[0m\u001B[0m\n\u001B[0;32m     33\u001B[0m     \u001B[0mactions\u001B[0m \u001B[1;33m=\u001B[0m \u001B[1;33m[\u001B[0m\u001B[1;33m]\u001B[0m\u001B[1;33m\u001B[0m\u001B[1;33m\u001B[0m\u001B[0m\n\u001B[1;32m---> 34\u001B[1;33m     \u001B[0mactions\u001B[0m\u001B[1;33m.\u001B[0m\u001B[0mextend\u001B[0m\u001B[1;33m(\u001B[0m\u001B[0mgame\u001B[0m\u001B[1;33m.\u001B[0m\u001B[0magents\u001B[0m\u001B[1;33m[\u001B[0m\u001B[1;36m0\u001B[0m\u001B[1;33m]\u001B[0m\u001B[1;33m.\u001B[0m\u001B[0mprocess_turn\u001B[0m\u001B[1;33m(\u001B[0m\u001B[0mgame\u001B[0m\u001B[1;33m,\u001B[0m \u001B[0mConstants\u001B[0m\u001B[1;33m.\u001B[0m\u001B[0mTEAM\u001B[0m\u001B[1;33m.\u001B[0m\u001B[0mA\u001B[0m\u001B[1;33m)\u001B[0m\u001B[1;33m)\u001B[0m\u001B[1;33m\u001B[0m\u001B[1;33m\u001B[0m\u001B[0m\n\u001B[0m\u001B[0;32m     35\u001B[0m     \u001B[0mactions\u001B[0m\u001B[1;33m.\u001B[0m\u001B[0mextend\u001B[0m\u001B[1;33m(\u001B[0m\u001B[0mgame\u001B[0m\u001B[1;33m.\u001B[0m\u001B[0magents\u001B[0m\u001B[1;33m[\u001B[0m\u001B[1;36m1\u001B[0m\u001B[1;33m]\u001B[0m\u001B[1;33m.\u001B[0m\u001B[0mprocess_turn\u001B[0m\u001B[1;33m(\u001B[0m\u001B[0mgame\u001B[0m\u001B[1;33m,\u001B[0m \u001B[0mConstants\u001B[0m\u001B[1;33m.\u001B[0m\u001B[0mTEAM\u001B[0m\u001B[1;33m.\u001B[0m\u001B[0mB\u001B[0m\u001B[1;33m)\u001B[0m\u001B[1;33m)\u001B[0m\u001B[1;33m\u001B[0m\u001B[1;33m\u001B[0m\u001B[0m\n\u001B[0;32m     36\u001B[0m     \u001B[1;32mreturn\u001B[0m \u001B[0mactions\u001B[0m\u001B[1;33m\u001B[0m\u001B[1;33m\u001B[0m\u001B[0m\n",
      "\u001B[1;32mD:\\GitHub\\MyLuxBot\\Bots\\bot1.py\u001B[0m in \u001B[0;36mprocess_turn\u001B[1;34m(self, game, team)\u001B[0m\n\u001B[0;32m     82\u001B[0m             \u001B[1;32mraise\u001B[0m \u001B[0mException\u001B[0m\u001B[1;33m(\u001B[0m\u001B[1;34m\"ERROR: Asking for turn from wrong team\"\u001B[0m\u001B[1;33m)\u001B[0m\u001B[1;33m\u001B[0m\u001B[1;33m\u001B[0m\u001B[0m\n\u001B[0;32m     83\u001B[0m         \u001B[0mself\u001B[0m\u001B[1;33m.\u001B[0m\u001B[0mupdate_game_state\u001B[0m\u001B[1;33m(\u001B[0m\u001B[0mgame\u001B[0m\u001B[1;33m)\u001B[0m\u001B[1;33m\u001B[0m\u001B[1;33m\u001B[0m\u001B[0m\n\u001B[1;32m---> 84\u001B[1;33m         \u001B[0mself\u001B[0m\u001B[1;33m.\u001B[0m\u001B[0mupdate_units\u001B[0m\u001B[1;33m(\u001B[0m\u001B[1;33m)\u001B[0m\u001B[1;33m\u001B[0m\u001B[1;33m\u001B[0m\u001B[0m\n\u001B[0m\u001B[0;32m     85\u001B[0m \u001B[1;33m\u001B[0m\u001B[0m\n\u001B[0;32m     86\u001B[0m         \u001B[0mactions\u001B[0m \u001B[1;33m=\u001B[0m \u001B[1;33m[\u001B[0m\u001B[1;33m]\u001B[0m\u001B[1;33m\u001B[0m\u001B[1;33m\u001B[0m\u001B[0m\n",
      "\u001B[1;32mD:\\GitHub\\MyLuxBot\\Bots\\bot1.py\u001B[0m in \u001B[0;36mupdate_units\u001B[1;34m(self)\u001B[0m\n\u001B[0;32m     70\u001B[0m         \u001B[0munits\u001B[0m \u001B[1;33m=\u001B[0m \u001B[0mself\u001B[0m\u001B[1;33m.\u001B[0m\u001B[0mgame_state\u001B[0m\u001B[1;33m.\u001B[0m\u001B[0munits\u001B[0m\u001B[1;33m(\u001B[0m\u001B[0mself\u001B[0m\u001B[1;33m.\u001B[0m\u001B[0mteam\u001B[0m\u001B[1;33m)\u001B[0m\u001B[1;33m\u001B[0m\u001B[1;33m\u001B[0m\u001B[0m\n\u001B[0;32m     71\u001B[0m         \u001B[1;32mfor\u001B[0m \u001B[0munit\u001B[0m \u001B[1;32min\u001B[0m \u001B[0munits\u001B[0m\u001B[1;33m:\u001B[0m  \u001B[1;31m# Add new units\u001B[0m\u001B[1;33m\u001B[0m\u001B[1;33m\u001B[0m\u001B[0m\n\u001B[1;32m---> 72\u001B[1;33m             \u001B[1;32mif\u001B[0m \u001B[0munit\u001B[0m\u001B[1;33m.\u001B[0m\u001B[0mid\u001B[0m \u001B[1;32mnot\u001B[0m \u001B[1;32min\u001B[0m \u001B[0mself\u001B[0m\u001B[1;33m.\u001B[0m\u001B[0munits\u001B[0m\u001B[1;33m:\u001B[0m\u001B[1;33m\u001B[0m\u001B[1;33m\u001B[0m\u001B[0m\n\u001B[0m\u001B[0;32m     73\u001B[0m                 \u001B[0mself\u001B[0m\u001B[1;33m.\u001B[0m\u001B[0munits\u001B[0m\u001B[1;33m[\u001B[0m\u001B[0munit\u001B[0m\u001B[1;33m.\u001B[0m\u001B[0mid\u001B[0m\u001B[1;33m]\u001B[0m \u001B[1;33m=\u001B[0m \u001B[0mMyUnit\u001B[0m\u001B[1;33m(\u001B[0m\u001B[0munit\u001B[0m\u001B[1;33m,\u001B[0m \u001B[0mself\u001B[0m\u001B[1;33m.\u001B[0m\u001B[0mgame_state\u001B[0m\u001B[1;33m)\u001B[0m\u001B[1;33m\u001B[0m\u001B[1;33m\u001B[0m\u001B[0m\n\u001B[0;32m     74\u001B[0m \u001B[1;33m\u001B[0m\u001B[0m\n",
      "\u001B[1;31mAttributeError\u001B[0m: 'str' object has no attribute 'id'"
     ]
    }
   ],
   "source": [
    "actions = get_actions(game)\n",
    "print(f\"Turn: {game.state['turn']}\")\n",
    "for action in actions:\n",
    "    print(action.to_message(game))"
   ]
  },
  {
   "cell_type": "code",
   "execution_count": null,
   "id": "350f01dc-62cd-4e6e-8b81-05699d97be15",
   "metadata": {},
   "outputs": [],
   "source": [
    "actions = get_actions(game)\n",
    "game.run_turn_with_actions(actions)\n",
    "render(game)"
   ]
  },
  {
   "cell_type": "code",
   "execution_count": null,
   "id": "fd5667bc-b346-4bfe-903d-367e9ec3db0c",
   "metadata": {},
   "outputs": [],
   "source": []
  },
  {
   "cell_type": "code",
   "execution_count": null,
   "id": "ef37547c-9be4-4098-a241-1f96d2732e6d",
   "metadata": {},
   "outputs": [],
   "source": []
  },
  {
   "cell_type": "code",
   "execution_count": null,
   "id": "0caff76e-037b-4e58-850a-87455206b6f1",
   "metadata": {},
   "outputs": [],
   "source": []
  }
 ],
 "metadata": {
  "kernelspec": {
   "display_name": "Python 3 (ipykernel)",
   "language": "python",
   "name": "python3"
  },
  "language_info": {
   "codemirror_mode": {
    "name": "ipython",
    "version": 3
   },
   "file_extension": ".py",
   "mimetype": "text/x-python",
   "name": "python",
   "nbconvert_exporter": "python",
   "pygments_lexer": "ipython3",
   "version": "3.7.11"
  }
 },
 "nbformat": 4,
 "nbformat_minor": 5
}