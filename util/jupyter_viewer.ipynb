{
 "cells": [
  {
   "cell_type": "code",
   "execution_count": 1,
   "id": "91e0e935-715c-4741-b515-ac37ba244f0d",
   "metadata": {},
   "outputs": [],
   "source": [
    "import sys\n",
    "import os\n",
    "sys.path.append(os.path.abspath('..'))\n",
    "\n",
    "from match_runner import generate_replay, get_game, render, get_actions\n",
    "\n",
    "from luxai2021.env.lux_env import LuxEnvironment\n",
    "from luxai2021.game.constants import LuxMatchConfigs_Default"
   ]
  },
  {
   "cell_type": "code",
   "execution_count": 2,
   "id": "e90b7d05-d1f9-4ee4-81d8-92098d72aa50",
   "metadata": {},
   "outputs": [],
   "source": [
    "from Bots.bot1 import BasicAgent"
   ]
  },
  {
   "cell_type": "code",
   "execution_count": 3,
   "id": "3704861a-8823-4a2a-bf84-95d872a105c5",
   "metadata": {},
   "outputs": [],
   "source": [
    "agent1, agent2 = BasicAgent(), BasicAgent()\n",
    "game = get_game(agent1, agent2)"
   ]
  },
  {
   "cell_type": "code",
   "execution_count": 4,
   "id": "460505b6-bac7-4428-af4f-6e27f5cf9ef1",
   "metadata": {},
   "outputs": [],
   "source": [
    "# render(game)"
   ]
  },
  {
   "cell_type": "code",
   "execution_count": 5,
   "id": "77e08c04-792e-477f-81b3-ac943297f45a",
   "metadata": {},
   "outputs": [
    {
     "name": "stdout",
     "output_type": "stream",
     "text": [
      "Turn: 0\n",
      "m u_1 n\n",
      "m u_2 n\n"
     ]
    }
   ],
   "source": [
    "actions = get_actions(game)\n",
    "print(f\"Turn: {game.state['turn']}\")\n",
    "for action in actions:\n",
    "    print(action.to_message(game))"
   ]
  },
  {
   "cell_type": "code",
   "execution_count": 39,
   "id": "350f01dc-62cd-4e6e-8b81-05699d97be15",
   "metadata": {},
   "outputs": [
    {
     "name": "stdout",
     "output_type": "stream",
     "text": [
      "Turn 34\n",
      "........Wa............Wb........\n",
      "....w,w,................w,w,....\n",
      "....w,w,w,............w,w,w,....\n",
      "....w,w,w,............w,w,w,....\n",
      "................................\n",
      "................................\n",
      "................................\n",
      "................................\n",
      "......c,c,............c,c,......\n",
      "......c,c,............c,c,......\n",
      "................................\n",
      "................................\n",
      "................................\n",
      "......w,w,w,w,....w,w,w,w,......\n",
      "..........w,w,....w,w,..........\n",
      "u,........w,........w,........u,\n",
      "\n"
     ]
    }
   ],
   "source": [
    "actions = get_actions(game)\n",
    "game.run_turn_with_actions(actions)\n",
    "render(game)"
   ]
  },
  {
   "cell_type": "code",
   "execution_count": null,
   "id": "fd5667bc-b346-4bfe-903d-367e9ec3db0c",
   "metadata": {},
   "outputs": [],
   "source": []
  },
  {
   "cell_type": "code",
   "execution_count": null,
   "id": "ef37547c-9be4-4098-a241-1f96d2732e6d",
   "metadata": {},
   "outputs": [],
   "source": []
  },
  {
   "cell_type": "code",
   "execution_count": null,
   "id": "0caff76e-037b-4e58-850a-87455206b6f1",
   "metadata": {},
   "outputs": [],
   "source": []
  }
 ],
 "metadata": {
  "kernelspec": {
   "display_name": "Python 3 (ipykernel)",
   "language": "python",
   "name": "python3"
  },
  "language_info": {
   "codemirror_mode": {
    "name": "ipython",
    "version": 3
   },
   "file_extension": ".py",
   "mimetype": "text/x-python",
   "name": "python",
   "nbconvert_exporter": "python",
   "pygments_lexer": "ipython3",
   "version": "3.7.11"
  }
 },
 "nbformat": 4,
 "nbformat_minor": 5
}
