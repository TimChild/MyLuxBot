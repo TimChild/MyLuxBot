{
 "cells": [
  {
   "cell_type": "code",
   "execution_count": 37,
   "id": "c088578f-a3f5-47f6-849d-f06b68f38390",
   "metadata": {},
   "outputs": [],
   "source": [
    "from kaggle_environments import make\n",
    "\n",
    "def make_env(seed=562124210):\n",
    "    return make(\"lux_ai_2021\", configuration={\"seed\": seed, \"loglevel\": 2, \"annotations\": True}, debug=True)\n",
    "\n",
    "def run(env, agent1=None, agent2=None, width=1000, height=800, seed=562124210):\n",
    "    if not agent1:\n",
    "        agent1 = \"simple_agent\"\n",
    "    if not agent2:\n",
    "        agent2 = \"simple_agent\"\n",
    "    steps = env.run([agent1, agent2])\n",
    "    return steps\n",
    "    \n",
    "def show(env):\n",
    "    env.render(mode=\"ipython\", width=width, height=height)"
   ]
  },
  {
   "cell_type": "code",
   "execution_count": 38,
   "id": "7252bfef-2451-4c10-a638-59c5bb4db08f",
   "metadata": {},
   "outputs": [],
   "source": [
    "from lux.game import Game\n",
    "from lux.game_map import Cell, RESOURCE_TYPES, Position\n",
    "from lux.constants import Constants\n",
    "from lux.game_constants import GAME_CONSTANTS\n",
    "from lux import annotate\n",
    "import math\n",
    "import sys"
   ]
  },
  {
   "cell_type": "code",
   "execution_count": 52,
   "id": "a13d367a-abc6-4a83-8796-f139e1603028",
   "metadata": {},
   "outputs": [],
   "source": [
    "game_state = None\n",
    "def agent(observation, configuration):\n",
    "    global game_state\n",
    "\n",
    "    ### Do not edit ###\n",
    "    if observation[\"step\"] == 0:\n",
    "        game_state = Game()\n",
    "        game_state._initialize(observation[\"updates\"])\n",
    "        game_state._update(observation[\"updates\"][2:])\n",
    "        game_state.id = observation.player\n",
    "    else:\n",
    "        game_state._update(observation[\"updates\"])\n",
    "    \n",
    "    actions = []\n",
    "\n",
    "    ### AI Code goes down here! ### \n",
    "    player = game_state.players[observation.player]\n",
    "    opponent = game_state.players[(observation.player + 1) % 2]\n",
    "    width, height = game_state.map.width, game_state.map.height\n",
    "    \n",
    "    # add debug statements like so!\n",
    "    if game_state.turn == 0:\n",
    "        print(\"Agent is running!\", file=sys.stderr)\n",
    "        actions.append(annotate.circle(0, 0))\n",
    "    return actions"
   ]
  },
  {
   "cell_type": "code",
   "execution_count": 54,
   "id": "bddb4941-5b38-4ef4-bbcc-cead79bebf7d",
   "metadata": {},
   "outputs": [
    {
     "name": "stdout",
     "output_type": "stream",
     "text": [
      "Agent is running!\n"
     ]
    }
   ],
   "source": [
    "env = make_env()\n",
    "steps = run(env, agent1=agent)"
   ]
  },
  {
   "cell_type": "code",
   "execution_count": 66,
   "id": "90e9a674-497b-4a75-a302-c0f3a6ee708f",
   "metadata": {},
   "outputs": [],
   "source": [
    "def get_game_state_turn(steps, turn, position):\n",
    "    \"\"\"Returns the game state for given player position on turn\"\"\"\n",
    "    return steps[turn][position]"
   ]
  },
  {
   "cell_type": "code",
   "execution_count": 67,
   "id": "9b694629-890c-4476-992e-4ac4f0baa4b3",
   "metadata": {},
   "outputs": [],
   "source": [
    "# this snippet finds all resources stored on the map and puts them into a list so we can search over them\n",
    "def find_resources(game_state):\n",
    "    resource_tiles: list[Cell] = []\n",
    "    width, height = game_state.map_width, game_state.map_height\n",
    "    for y in range(height):\n",
    "        for x in range(width):\n",
    "            cell = game_state.map.get_cell(x, y)\n",
    "            if cell.has_resource():\n",
    "                resource_tiles.append(cell)\n",
    "    return resource_tiles\n",
    "\n",
    "# the next snippet finds the closest resources that we can mine given position on a map\n",
    "def find_closest_resources(pos, player, resource_tiles):\n",
    "    closest_dist = math.inf\n",
    "    closest_resource_tile = None\n",
    "    for resource_tile in resource_tiles:\n",
    "        # we skip over resources that we can't mine due to not having researched them\n",
    "        if resource_tile.resource.type == Constants.RESOURCE_TYPES.COAL and not player.researched_coal(): continue\n",
    "        if resource_tile.resource.type == Constants.RESOURCE_TYPES.URANIUM and not player.researched_uranium(): continue\n",
    "        dist = resource_tile.pos.distance_to(pos)\n",
    "        if dist < closest_dist:\n",
    "            closest_dist = dist\n",
    "            closest_resource_tile = resource_tile\n",
    "    return closest_resource_tile"
   ]
  },
  {
   "cell_type": "code",
   "execution_count": 68,
   "id": "9d554e25-0fea-46e0-b4c4-e4912726732f",
   "metadata": {},
   "outputs": [
    {
     "ename": "AttributeError",
     "evalue": "'Struct' object has no attribute 'map_width'",
     "output_type": "error",
     "traceback": [
      "\u001b[1;31m---------------------------------------------------------------------------\u001b[0m",
      "\u001b[1;31mAttributeError\u001b[0m                            Traceback (most recent call last)",
      "\u001b[1;32m~\\AppData\\Local\\Temp/ipykernel_32632/4272587712.py\u001b[0m in \u001b[0;36m<module>\u001b[1;34m\u001b[0m\n\u001b[1;32m----> 1\u001b[1;33m \u001b[0mresource_tiles\u001b[0m \u001b[1;33m=\u001b[0m \u001b[0mfind_resources\u001b[0m\u001b[1;33m(\u001b[0m\u001b[0mget_game_state_turn\u001b[0m\u001b[1;33m(\u001b[0m\u001b[0msteps\u001b[0m\u001b[1;33m,\u001b[0m \u001b[1;36m10\u001b[0m\u001b[1;33m,\u001b[0m \u001b[1;36m0\u001b[0m\u001b[1;33m)\u001b[0m\u001b[1;33m)\u001b[0m\u001b[1;33m\u001b[0m\u001b[1;33m\u001b[0m\u001b[0m\n\u001b[0m\u001b[0;32m      2\u001b[0m \u001b[0mcell\u001b[0m \u001b[1;33m=\u001b[0m \u001b[0mresource_tiles\u001b[0m\u001b[1;33m[\u001b[0m\u001b[1;36m0\u001b[0m\u001b[1;33m]\u001b[0m\u001b[1;33m\u001b[0m\u001b[1;33m\u001b[0m\u001b[0m\n\u001b[0;32m      3\u001b[0m \u001b[0mprint\u001b[0m\u001b[1;33m(\u001b[0m\u001b[1;34m\"Cell at\"\u001b[0m\u001b[1;33m,\u001b[0m \u001b[0mcell\u001b[0m\u001b[1;33m.\u001b[0m\u001b[0mpos\u001b[0m\u001b[1;33m,\u001b[0m \u001b[1;34m\"has\"\u001b[0m\u001b[1;33m)\u001b[0m\u001b[1;33m\u001b[0m\u001b[1;33m\u001b[0m\u001b[0m\n\u001b[0;32m      4\u001b[0m \u001b[0mprint\u001b[0m\u001b[1;33m(\u001b[0m\u001b[0mcell\u001b[0m\u001b[1;33m.\u001b[0m\u001b[0mresource\u001b[0m\u001b[1;33m.\u001b[0m\u001b[0mtype\u001b[0m\u001b[1;33m,\u001b[0m \u001b[0mcell\u001b[0m\u001b[1;33m.\u001b[0m\u001b[0mresource\u001b[0m\u001b[1;33m.\u001b[0m\u001b[0mamount\u001b[0m\u001b[1;33m)\u001b[0m\u001b[1;33m\u001b[0m\u001b[1;33m\u001b[0m\u001b[0m\n",
      "\u001b[1;32m~\\AppData\\Local\\Temp/ipykernel_32632/2674139883.py\u001b[0m in \u001b[0;36mfind_resources\u001b[1;34m(game_state)\u001b[0m\n\u001b[0;32m      2\u001b[0m \u001b[1;32mdef\u001b[0m \u001b[0mfind_resources\u001b[0m\u001b[1;33m(\u001b[0m\u001b[0mgame_state\u001b[0m\u001b[1;33m)\u001b[0m\u001b[1;33m:\u001b[0m\u001b[1;33m\u001b[0m\u001b[1;33m\u001b[0m\u001b[0m\n\u001b[0;32m      3\u001b[0m     \u001b[0mresource_tiles\u001b[0m\u001b[1;33m:\u001b[0m \u001b[0mlist\u001b[0m\u001b[1;33m[\u001b[0m\u001b[0mCell\u001b[0m\u001b[1;33m]\u001b[0m \u001b[1;33m=\u001b[0m \u001b[1;33m[\u001b[0m\u001b[1;33m]\u001b[0m\u001b[1;33m\u001b[0m\u001b[1;33m\u001b[0m\u001b[0m\n\u001b[1;32m----> 4\u001b[1;33m     \u001b[0mwidth\u001b[0m\u001b[1;33m,\u001b[0m \u001b[0mheight\u001b[0m \u001b[1;33m=\u001b[0m \u001b[0mgame_state\u001b[0m\u001b[1;33m.\u001b[0m\u001b[0mmap_width\u001b[0m\u001b[1;33m,\u001b[0m \u001b[0mgame_state\u001b[0m\u001b[1;33m.\u001b[0m\u001b[0mmap_height\u001b[0m\u001b[1;33m\u001b[0m\u001b[1;33m\u001b[0m\u001b[0m\n\u001b[0m\u001b[0;32m      5\u001b[0m     \u001b[1;32mfor\u001b[0m \u001b[0my\u001b[0m \u001b[1;32min\u001b[0m \u001b[0mrange\u001b[0m\u001b[1;33m(\u001b[0m\u001b[0mheight\u001b[0m\u001b[1;33m)\u001b[0m\u001b[1;33m:\u001b[0m\u001b[1;33m\u001b[0m\u001b[1;33m\u001b[0m\u001b[0m\n\u001b[0;32m      6\u001b[0m         \u001b[1;32mfor\u001b[0m \u001b[0mx\u001b[0m \u001b[1;32min\u001b[0m \u001b[0mrange\u001b[0m\u001b[1;33m(\u001b[0m\u001b[0mwidth\u001b[0m\u001b[1;33m)\u001b[0m\u001b[1;33m:\u001b[0m\u001b[1;33m\u001b[0m\u001b[1;33m\u001b[0m\u001b[0m\n",
      "\u001b[1;31mAttributeError\u001b[0m: 'Struct' object has no attribute 'map_width'"
     ]
    }
   ],
   "source": [
    "resource_tiles = find_resources(get_game_state_turn(steps, 10, 0))\n",
    "cell = resource_tiles[0]\n",
    "print(\"Cell at\", cell.pos, \"has\")\n",
    "\n",
    "print(cell.resource.type, cell.resource.amount)"
   ]
  },
  {
   "cell_type": "code",
   "execution_count": 71,
   "id": "e4d4eaf1-2da8-49bd-af5f-34f73d8d0ff7",
   "metadata": {},
   "outputs": [
    {
     "data": {
      "text/plain": [
       "dict_keys(['action', 'reward', 'info', 'observation', 'status'])"
      ]
     },
     "execution_count": 71,
     "metadata": {},
     "output_type": "execute_result"
    }
   ],
   "source": [
    "env."
   ]
  }
 ],
 "metadata": {
  "kernelspec": {
   "display_name": "Python 3 (ipykernel)",
   "language": "python",
   "name": "python3"
  },
  "language_info": {
   "codemirror_mode": {
    "name": "ipython",
    "version": 3
   },
   "file_extension": ".py",
   "mimetype": "text/x-python",
   "name": "python",
   "nbconvert_exporter": "python",
   "pygments_lexer": "ipython3",
   "version": "3.9.7"
  }
 },
 "nbformat": 4,
 "nbformat_minor": 5
}
