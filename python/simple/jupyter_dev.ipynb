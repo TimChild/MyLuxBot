{
 "cells": [
  {
   "cell_type": "code",
   "execution_count": 37,
   "id": "c088578f-a3f5-47f6-849d-f06b68f38390",
   "metadata": {},
   "outputs": [],
   "source": [
    "from kaggle_environments import make\n"
   ]
  },
  {
   "cell_type": "code",
   "execution_count": 38,
   "id": "7252bfef-2451-4c10-a638-59c5bb4db08f",
   "metadata": {},
   "outputs": [],
   "source": [
    "from lux.game import Game\n",
    "from lux.game_map import Cell, RESOURCE_TYPES, Position\n",
    "from lux.constants import Constants\n",
    "from lux.game_constants import GAME_CONSTANTS\n",
    "from lux import annotate\n",
    "import math\n",
    "import sys"
   ]
  },
  {
   "cell_type": "code",
   "execution_count": 75,
   "id": "a13d367a-abc6-4a83-8796-f139e1603028",
   "metadata": {},
   "outputs": [],
   "source": [
    "game_state = None\n",
    "\n",
    "def agent(observation, configuration):\n",
    "    global game_state, game_states\n",
    "\n",
    "    ### Do not edit ###\n",
    "    if observation[\"step\"] == 0:\n",
    "        game_state = Game()\n",
    "        game_state._initialize(observation[\"updates\"])\n",
    "        game_state._update(observation[\"updates\"][2:])\n",
    "        game_state.id = observation.player\n",
    "    else:\n",
    "        game_state._update(observation[\"updates\"])\n",
    "    \n",
    "    actions = []\n",
    "\n",
    "    ### AI Code goes down here! ### \n",
    "    \n",
    "    if observation[\"step\"] == 0:\n",
    "        game_states = [game_state]\n",
    "    else:\n",
    "        game_states.append(game_state)\n",
    "    player = game_state.players[observation.player]\n",
    "    opponent = game_state.players[(observation.player + 1) % 2]\n",
    "    width, height = game_state.map.width, game_state.map.height\n",
    "    \n",
    "    # add debug statements like so!\n",
    "    if game_state.turn == 0:\n",
    "        print(\"Agent is running!\", file=sys.stderr)\n",
    "        actions.append(annotate.circle(0, 0))\n",
    "    return actions"
   ]
  },
  {
   "cell_type": "code",
   "execution_count": 76,
   "id": "bddb4941-5b38-4ef4-bbcc-cead79bebf7d",
   "metadata": {},
   "outputs": [
    {
     "name": "stdout",
     "output_type": "stream",
     "text": [
      "Agent is running!\n"
     ]
    }
   ],
   "source": [
    "from kaggle_util import make_env, run, show\n",
    "\n",
    "env = make_env()\n",
    "steps = run(env, agent1=agent)"
   ]
  },
  {
   "cell_type": "code",
   "execution_count": 77,
   "id": "9b694629-890c-4476-992e-4ac4f0baa4b3",
   "metadata": {},
   "outputs": [],
   "source": [
    "# this snippet finds all resources stored on the map and puts them into a list so we can search over them\n",
    "def find_resources(game_state):\n",
    "    resource_tiles: list[Cell] = []\n",
    "    width, height = game_state.map_width, game_state.map_height\n",
    "    for y in range(height):\n",
    "        for x in range(width):\n",
    "            cell = game_state.map.get_cell(x, y)\n",
    "            if cell.has_resource():\n",
    "                resource_tiles.append(cell)\n",
    "    return resource_tiles\n",
    "\n",
    "# the next snippet finds the closest resources that we can mine given position on a map\n",
    "def find_closest_resources(pos, player, resource_tiles):\n",
    "    closest_dist = math.inf\n",
    "    closest_resource_tile = None\n",
    "    for resource_tile in resource_tiles:\n",
    "        # we skip over resources that we can't mine due to not having researched them\n",
    "        if resource_tile.resource.type == Constants.RESOURCE_TYPES.COAL and not player.researched_coal(): continue\n",
    "        if resource_tile.resource.type == Constants.RESOURCE_TYPES.URANIUM and not player.researched_uranium(): continue\n",
    "        dist = resource_tile.pos.distance_to(pos)\n",
    "        if dist < closest_dist:\n",
    "            closest_dist = dist\n",
    "            closest_resource_tile = resource_tile\n",
    "    return closest_resource_tile"
   ]
  },
  {
   "cell_type": "code",
   "execution_count": 80,
   "id": "9d554e25-0fea-46e0-b4c4-e4912726732f",
   "metadata": {},
   "outputs": [
    {
     "name": "stdout",
     "output_type": "stream",
     "text": [
      "Cell at (8, 0) has\n",
      "coal 369\n"
     ]
    }
   ],
   "source": [
    "resource_tiles = find_resources(game_states[22])\n",
    "\n",
    "cell = resource_tiles[0]\n",
    "print(\"Cell at\", cell.pos, \"has\")\n",
    "print(cell.resource.type, cell.resource.amount)"
   ]
  },
  {
   "cell_type": "code",
   "execution_count": 72,
   "id": "e4d4eaf1-2da8-49bd-af5f-34f73d8d0ff7",
   "metadata": {},
   "outputs": [
    {
     "data": {
      "text/plain": [
       "{'seed': 562124210,\n",
       " 'loglevel': 2,\n",
       " 'annotations': True,\n",
       " 'episodeSteps': 361,\n",
       " 'actTimeout': 3,\n",
       " 'runTimeout': 1200,\n",
       " 'mapType': 'random',\n",
       " 'width': -1,\n",
       " 'height': -1}"
      ]
     },
     "execution_count": 72,
     "metadata": {},
     "output_type": "execute_result"
    }
   ],
   "source": []
  }
 ],
 "metadata": {
  "kernelspec": {
   "display_name": "Python 3 (ipykernel)",
   "language": "python",
   "name": "python3"
  },
  "language_info": {
   "codemirror_mode": {
    "name": "ipython",
    "version": 3
   },
   "file_extension": ".py",
   "mimetype": "text/x-python",
   "name": "python",
   "nbconvert_exporter": "python",
   "pygments_lexer": "ipython3",
   "version": "3.9.7"
  }
 },
 "nbformat": 4,
 "nbformat_minor": 5
}