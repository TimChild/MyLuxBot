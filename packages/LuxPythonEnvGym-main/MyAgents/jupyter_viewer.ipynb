{
 "cells": [
  {
   "cell_type": "code",
   "execution_count": 1,
   "id": "73c9bdfd-c3ce-4404-ad21-5268cf5a523f",
   "metadata": {},
   "outputs": [],
   "source": [
    "from match_runner import generate_replay, get_game, render, get_actions\n",
    "from Bots.bot1 import BasicAgent"
   ]
  },
  {
   "cell_type": "code",
   "execution_count": 2,
   "id": "2fd481dd-07ba-4833-974e-a24b9c5ec3bf",
   "metadata": {},
   "outputs": [],
   "source": [
    "from luxai2021.env.lux_env import LuxEnvironment\n",
    "from luxai2021.game.constants import LuxMatchConfigs_Default"
   ]
  },
  {
   "cell_type": "code",
   "execution_count": 3,
   "id": "3704861a-8823-4a2a-bf84-95d872a105c5",
   "metadata": {},
   "outputs": [],
   "source": [
    "agent1, agent2 = BasicAgent(), BasicAgent()\n",
    "game = get_game(agent1, agent2)"
   ]
  },
  {
   "cell_type": "code",
   "execution_count": 4,
   "id": "460505b6-bac7-4428-af4f-6e27f5cf9ef1",
   "metadata": {},
   "outputs": [
    {
     "name": "stdout",
     "output_type": "stream",
     "text": [
      "Turn 0\n",
      "................................\n",
      "....w,w,................w,w,....\n",
      "....w,w,w,............w,w,w,....\n",
      "....w,w,w,............w,w,w,....\n",
      "................................\n",
      "................................\n",
      "................................\n",
      "................................\n",
      "......c,c,............c,c,......\n",
      "......c,c,............c,c,......\n",
      "................................\n",
      "................................\n",
      "................................\n",
      "......w,w,w,w,....w,w,w,w,......\n",
      "........Waw,w,....w,w,Wb........\n",
      "u,........w,........w,........u,\n",
      "\n"
     ]
    }
   ],
   "source": [
    "render(game)"
   ]
  },
  {
   "cell_type": "code",
   "execution_count": 6,
   "id": "77e08c04-792e-477f-81b3-ac943297f45a",
   "metadata": {},
   "outputs": [
    {
     "name": "stdout",
     "output_type": "stream",
     "text": [
      "Turn: 0\n"
     ]
    },
    {
     "ename": "AttributeError",
     "evalue": "module 'luxai2021.game.actions' has no attribute 'to_message'",
     "output_type": "error",
     "traceback": [
      "\u001B[1;31m---------------------------------------------------------------------------\u001B[0m",
      "\u001B[1;31mAttributeError\u001B[0m                            Traceback (most recent call last)",
      "\u001B[1;32m~\\AppData\\Local\\Temp/ipykernel_48056/3141683285.py\u001B[0m in \u001B[0;36m<module>\u001B[1;34m\u001B[0m\n\u001B[0;32m      2\u001B[0m \u001B[0mprint\u001B[0m\u001B[1;33m(\u001B[0m\u001B[1;34mf\"Turn: {game.state['turn']}\"\u001B[0m\u001B[1;33m)\u001B[0m\u001B[1;33m\u001B[0m\u001B[1;33m\u001B[0m\u001B[0m\n\u001B[0;32m      3\u001B[0m \u001B[1;32mfor\u001B[0m \u001B[0maction\u001B[0m \u001B[1;32min\u001B[0m \u001B[0mactions\u001B[0m\u001B[1;33m:\u001B[0m\u001B[1;33m\u001B[0m\u001B[1;33m\u001B[0m\u001B[0m\n\u001B[1;32m----> 4\u001B[1;33m     \u001B[0mprint\u001B[0m\u001B[1;33m(\u001B[0m\u001B[0maction\u001B[0m\u001B[1;33m.\u001B[0m\u001B[0mto_message\u001B[0m\u001B[1;33m(\u001B[0m\u001B[0mgame\u001B[0m\u001B[1;33m)\u001B[0m\u001B[1;33m)\u001B[0m\u001B[1;33m\u001B[0m\u001B[1;33m\u001B[0m\u001B[0m\n\u001B[0m\u001B[0;32m      5\u001B[0m \u001B[1;33m\u001B[0m\u001B[0m\n",
      "\u001B[1;31mAttributeError\u001B[0m: module 'luxai2021.game.actions' has no attribute 'to_message'"
     ]
    }
   ],
   "source": [
    "actions = get_actions(game)\n",
    "print(f\"Turn: {game.state['turn']}\")\n",
    "for action in actions:\n",
    "    print(action.to_message(game))"
   ]
  },
  {
   "cell_type": "code",
   "execution_count": null,
   "id": "350f01dc-62cd-4e6e-8b81-05699d97be15",
   "metadata": {},
   "outputs": [],
   "source": [
    "actions = get_actions(game)\n",
    "game.run_turn_with_actions(actions)\n",
    "render(game)"
   ]
  },
  {
   "cell_type": "code",
   "execution_count": null,
   "id": "fd5667bc-b346-4bfe-903d-367e9ec3db0c",
   "metadata": {},
   "outputs": [],
   "source": []
  },
  {
   "cell_type": "code",
   "execution_count": null,
   "id": "ef37547c-9be4-4098-a241-1f96d2732e6d",
   "metadata": {},
   "outputs": [],
   "source": []
  },
  {
   "cell_type": "code",
   "execution_count": null,
   "id": "0caff76e-037b-4e58-850a-87455206b6f1",
   "metadata": {},
   "outputs": [],
   "source": []
  }
 ],
 "metadata": {
  "kernelspec": {
   "display_name": "Python 3 (ipykernel)",
   "language": "python",
   "name": "python3"
  },
  "language_info": {
   "codemirror_mode": {
    "name": "ipython",
    "version": 3
   },
   "file_extension": ".py",
   "mimetype": "text/x-python",
   "name": "python",
   "nbconvert_exporter": "python",
   "pygments_lexer": "ipython3",
   "version": "3.7.11"
  }
 },
 "nbformat": 4,
 "nbformat_minor": 5
}